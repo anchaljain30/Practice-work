{
 "cells": [
  {
   "cell_type": "code",
   "execution_count": 3,
   "metadata": {},
   "outputs": [
    {
     "name": "stdout",
     "output_type": "stream",
     "text": [
      "quotient:  4.0\n",
      "remainder:  0\n"
     ]
    }
   ],
   "source": [
    "#quotient and remainder\n",
    "\n",
    "a = 20\n",
    "b = 5\n",
    "quo = a/b\n",
    "rem = a%b\n",
    "print(\"quotient: \",quo)\n",
    "print(\"remainder: \",rem)"
   ]
  },
  {
   "cell_type": "markdown",
   "metadata": {},
   "source": []
  },
  {
   "cell_type": "code",
   "execution_count": 60,
   "metadata": {},
   "outputs": [
    {
     "name": "stdout",
     "output_type": "stream",
     "text": [
      "enter number: 12345\n",
      "15\n"
     ]
    }
   ],
   "source": [
    "#sum of digits\n",
    "\n",
    "a = int(input(\"enter number: \"))\n",
    "adn=0\n",
    "while(a>0):\n",
    "    dig=a%10\n",
    "    adn = int(adn+dig)\n",
    "    a=a/10\n",
    "print(adn)"
   ]
  },
  {
   "cell_type": "code",
   "execution_count": 29,
   "metadata": {},
   "outputs": [
    {
     "name": "stdout",
     "output_type": "stream",
     "text": [
      "enter number: 23\n",
      "6\n"
     ]
    }
   ],
   "source": [
    "#product of digits\n",
    "\n",
    "n = list(input(\"enter number: \"))\n",
    "pr=1\n",
    "for i in n:\n",
    "    pr=pr*int(i)\n",
    "print(pr)"
   ]
  },
  {
   "cell_type": "code",
   "execution_count": 30,
   "metadata": {},
   "outputs": [
    {
     "name": "stdout",
     "output_type": "stream",
     "text": [
      "enter number: 34\n",
      "7\n"
     ]
    }
   ],
   "source": [
    "#sum of digits 2\n",
    "\n",
    "n = list(input(\"enter number: \"))\n",
    "ad=0\n",
    "for i in n:\n",
    "    ad=ad+int(i)\n",
    "print(ad)"
   ]
  },
  {
   "cell_type": "code",
   "execution_count": 33,
   "metadata": {},
   "outputs": [
    {
     "name": "stdout",
     "output_type": "stream",
     "text": [
      "enter a binary number: 1000001\n",
      "65\n"
     ]
    }
   ],
   "source": [
    "#binary to decimal\n",
    "\n",
    "bin = list(input(\"enter a binary number: \"))\n",
    "value=0\n",
    "for i in range(len(bin)):\n",
    "    dig=bin.pop()\n",
    "    if dig==\"1\":\n",
    "        value=value+pow(2,i)\n",
    "print(value)"
   ]
  },
  {
   "cell_type": "code",
   "execution_count": 40,
   "metadata": {},
   "outputs": [
    {
     "data": {
      "text/plain": [
       "46"
      ]
     },
     "execution_count": 40,
     "metadata": {},
     "output_type": "execute_result"
    }
   ],
   "source": [
    "#multiplication without using * operator\n",
    "\n",
    "a = 23\n",
    "b = 2\n",
    "a.__mul__(b)"
   ]
  },
  {
   "cell_type": "code",
   "execution_count": 4,
   "metadata": {},
   "outputs": [
    {
     "name": "stdout",
     "output_type": "stream",
     "text": [
      "11.0\n"
     ]
    }
   ],
   "source": [
    "n = 5\n",
    "res = n*(n-1)/2+1\n",
    "print(res)"
   ]
  },
  {
   "cell_type": "code",
   "execution_count": 59,
   "metadata": {},
   "outputs": [
    {
     "name": "stdout",
     "output_type": "stream",
     "text": [
      "enter number: 12345\n",
      "15\n"
     ]
    }
   ],
   "source": [
    "#sum of digits 3\n",
    "\n",
    "n = list(input(\"enter number: \"))\n",
    "ad=0\n",
    "while ad<10:\n",
    "    for i in n:\n",
    "        ad=ad+int(i)\n",
    "    print(ad)"
   ]
  },
  {
   "cell_type": "code",
   "execution_count": 10,
   "metadata": {},
   "outputs": [
    {
     "name": "stdout",
     "output_type": "stream",
     "text": [
      "enter a number: 5\n",
      "fibonacci series upto 5 :\n",
      "0,1,1,2,3,"
     ]
    }
   ],
   "source": [
    "#fibonacci series\n",
    "\n",
    "num=int(input(\"enter a number: \"))\n",
    "n1=0\n",
    "n2=1\n",
    "count=0\n",
    "if num<=0:\n",
    "    print(\"enter a positive number\")\n",
    "elif num==1:\n",
    "    print(\"fibonacci seriees upto\",num,\":\")\n",
    "    print(n1)\n",
    "else:\n",
    "    print(\"fibonacci series upto\",num,\":\")\n",
    "    while count<num:\n",
    "        print(n1,end=\",\")\n",
    "        addn=n1+n2\n",
    "        n1=n2\n",
    "        n2=addn\n",
    "        count+=1"
   ]
  },
  {
   "cell_type": "code",
   "execution_count": 16,
   "metadata": {},
   "outputs": [
    {
     "name": "stdout",
     "output_type": "stream",
     "text": [
      "enter a number: 1634\n"
     ]
    },
    {
     "ename": "TypeError",
     "evalue": "unsupported operand type(s) for ** or pow(): 'type' and 'int'",
     "output_type": "error",
     "traceback": [
      "\u001b[1;31m---------------------------------------------------------------------------\u001b[0m",
      "\u001b[1;31mTypeError\u001b[0m                                 Traceback (most recent call last)",
      "\u001b[1;32m<ipython-input-16-5a2f800252bf>\u001b[0m in \u001b[0;36m<module>\u001b[1;34m()\u001b[0m\n\u001b[0;32m      7\u001b[0m \u001b[1;32mfor\u001b[0m \u001b[0mvar\u001b[0m \u001b[1;32min\u001b[0m \u001b[0mnum\u001b[0m\u001b[1;33m:\u001b[0m\u001b[1;33m\u001b[0m\u001b[0m\n\u001b[0;32m      8\u001b[0m     \u001b[0mnew\u001b[0m\u001b[1;33m=\u001b[0m\u001b[0mint\u001b[0m\u001b[1;33m(\u001b[0m\u001b[0mvar\u001b[0m\u001b[1;33m)\u001b[0m\u001b[1;33m\u001b[0m\u001b[0m\n\u001b[1;32m----> 9\u001b[1;33m     \u001b[0mcub\u001b[0m\u001b[1;33m=\u001b[0m\u001b[0mint\u001b[0m\u001b[1;33m**\u001b[0m\u001b[0mcount\u001b[0m\u001b[1;33m\u001b[0m\u001b[0m\n\u001b[0m\u001b[0;32m     10\u001b[0m     \u001b[0msum\u001b[0m\u001b[1;33m=\u001b[0m\u001b[0msum\u001b[0m\u001b[1;33m+\u001b[0m\u001b[0mcub\u001b[0m\u001b[1;33m\u001b[0m\u001b[0m\n",
      "\u001b[1;31mTypeError\u001b[0m: unsupported operand type(s) for ** or pow(): 'type' and 'int'"
     ]
    }
   ],
   "source": [
    "#armstrong numbers\n",
    "\n",
    "num=input(\"enter a number: \")\n",
    "count=len(num)\n",
    "li=list(num)\n",
    "sum=0\n",
    "for var in num:\n",
    "    new=int(var)\n",
    "    cub=int**count\n",
    "    sum=sum+cub"
   ]
  },
  {
   "cell_type": "code",
   "execution_count": null,
   "metadata": {},
   "outputs": [],
   "source": []
  }
 ],
 "metadata": {
  "kernelspec": {
   "display_name": "Python 3",
   "language": "python",
   "name": "python3"
  },
  "language_info": {
   "codemirror_mode": {
    "name": "ipython",
    "version": 3
   },
   "file_extension": ".py",
   "mimetype": "text/x-python",
   "name": "python",
   "nbconvert_exporter": "python",
   "pygments_lexer": "ipython3",
   "version": "3.6.5"
  }
 },
 "nbformat": 4,
 "nbformat_minor": 2
}
