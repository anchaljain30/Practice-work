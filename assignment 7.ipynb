{
 "cells": [
  {
   "cell_type": "code",
   "execution_count": null,
   "metadata": {},
   "outputs": [],
   "source": [
    "num1 = int(input(\"enter first number: \"))\n",
    "num2 = int(input(\"enter second number: \"))\n",
    "if num1>num2:\n",
    "    print(num1,\"is greater than\",num2)\n",
    "elif num2>num1:\n",
    "    print(num2,\"is greater than\",num1)\n",
    "else:\n",
    "    print(\"Both numbers are equal\")"
   ]
  },
  {
   "cell_type": "code",
   "execution_count": null,
   "metadata": {},
   "outputs": [],
   "source": [
    "num1 = int(input(\"enter first number: \"))\n",
    "num2 = int(input(\"enter second number: \"))\n",
    "num3 = int(input(\"enter third number: \"))\n",
    "if num1==num2==num3:\n",
    "    print(\"Numbers are equal\")\n",
    "elif num1==num2:\n",
    "    print(\"first and second number are same\")\n",
    "elif num2==num3:\n",
    "    print(\"second and third number are same\")\n",
    "elif num1==num3:\n",
    "    print(\"first and third number are same\")\n",
    "if num1>=num2 and num1>=num3:\n",
    "    print(num1,\"is greatest than rest\")\n",
    "elif num2>=num1 and num2>=num3:\n",
    "    print(num2,\"is greatest than rest\")\n",
    "elif num3>=num1 and num3>=num2:\n",
    "    print(num3,\"is greatest than rest\")"
   ]
  },
  {
   "cell_type": "code",
   "execution_count": null,
   "metadata": {},
   "outputs": [],
   "source": [
    "num = int(input(\"Enter a number: \"))\n",
    "if num>0:\n",
    "    print(\"number is positive\")\n",
    "elif num<0:\n",
    "    print(\"number is negative\")\n",
    "else:\n",
    "    print(\"you entered zero\")"
   ]
  },
  {
   "cell_type": "code",
   "execution_count": null,
   "metadata": {},
   "outputs": [],
   "source": [
    "num = int(input(\"enter a no: \"))\n",
    "if num%5==0 and num%11==0:\n",
    "    print(\"it is divisible by 5 and 11\")\n",
    "else:\n",
    "    print(\"it is not divisible by 5 and 11\")"
   ]
  },
  {
   "cell_type": "code",
   "execution_count": null,
   "metadata": {},
   "outputs": [],
   "source": [
    "num = int(input(\"Enter a number: \"))\n",
    "if num%2==0:\n",
    "    print(\"it is even\")\n",
    "else:\n",
    "    print(\"it is odd\")"
   ]
  },
  {
   "cell_type": "code",
   "execution_count": null,
   "metadata": {},
   "outputs": [],
   "source": [
    "num = int(input(\"Enter a year: \"))\n",
    "if num%4==0:\n",
    "    if num%100==0:\n",
    "        if num%400==0:\n",
    "            print(\"it is a leap year\")\n",
    "        else:\n",
    "            print(\"it is not a leap year\")\n",
    "    else:\n",
    "        print(\"it is a leap year\")\n",
    "else:\n",
    "    print(\"it is not a leap year\")"
   ]
  },
  {
   "cell_type": "code",
   "execution_count": null,
   "metadata": {},
   "outputs": [],
   "source": [
    "char = input(\"enter a character: \")\n",
    "if char.isalpha():\n",
    "    print(\"it is an alphabet\")\n",
    "else:\n",
    "    print(\"it is not an alphabet\")"
   ]
  },
  {
   "cell_type": "code",
   "execution_count": null,
   "metadata": {},
   "outputs": [],
   "source": [
    "char = input(\"enter a character: \")\n",
    "l = \"aeiou\"\n",
    "if char in l:\n",
    "    print(\"it is a vowel\")\n",
    "else:\n",
    "    print(\"it is a consonant\")"
   ]
  },
  {
   "cell_type": "code",
   "execution_count": 3,
   "metadata": {},
   "outputs": [
    {
     "name": "stdout",
     "output_type": "stream",
     "text": [
      "enter a character: r\n",
      "it is an alphabet\n"
     ]
    }
   ],
   "source": [
    "char = input(\"enter a character: \").strip()\n",
    "if char.isalpha():\n",
    "    print(\"it is an alphabet\")\n",
    "elif char.isdigit():\n",
    "    print(\"it is a digit\")\n",
    "else:\n",
    "    print(\"it is a special character\")"
   ]
  },
  {
   "cell_type": "code",
   "execution_count": 7,
   "metadata": {},
   "outputs": [
    {
     "name": "stdout",
     "output_type": "stream",
     "text": [
      "enter a character: T\n",
      "it is in UPPERCASE\n"
     ]
    }
   ],
   "source": [
    "char = input(\"enter a character: \").strip()\n",
    "if char.isupper():\n",
    "    print(\"it is in UPPERCASE\")\n",
    "else:\n",
    "    print(\"it is in lowercase\")"
   ]
  },
  {
   "cell_type": "code",
   "execution_count": 11,
   "metadata": {},
   "outputs": [
    {
     "name": "stdout",
     "output_type": "stream",
     "text": [
      "enter a week no (where 0 and 1 stands for sunday and 7 for saturday) : 4\n",
      "Wednesday\n"
     ]
    }
   ],
   "source": [
    "weekno = input(\"enter a week no (where 0 and 1 stands for sunday and 7 for saturday) : \")\n",
    "if weekno==\"0\" or weekno==\"1\":\n",
    "    print(\"Sunday\")\n",
    "elif weekno==\"2\":\n",
    "    print(\"Monday\")\n",
    "elif weekno==\"3\":\n",
    "    print(\"Tuesday\")\n",
    "elif weekno==\"4\":\n",
    "    print(\"Wednesday\")\n",
    "elif weekno==\"5\":\n",
    "    print(\"thursday\")\n",
    "elif weekno==\"6\":\n",
    "    print(\"Friday\")\n",
    "elif weekno==\"7\":\n",
    "    print(\"Saturday\")\n",
    "else:\n",
    "    print(\"enter the correct digit\")"
   ]
  },
  {
   "cell_type": "code",
   "execution_count": 14,
   "metadata": {},
   "outputs": [
    {
     "name": "stdout",
     "output_type": "stream",
     "text": [
      "enter a month no (where 1 stands for january and 12 for december) : 6\n",
      "no of days : 30\n"
     ]
    }
   ],
   "source": [
    "month = input(\"enter a month no (where 1 stands for january and 12 for december) : \")\n",
    "if month==\"1\" or month==\"3\" or month==\"5\" or month==\"7\" or month==\"8\" or month==\"10\" or month==\"12\":\n",
    "    print(\"no of days : 31\")\n",
    "elif month==\"2\":\n",
    "    print(\"no of days : 28\")\n",
    "else:\n",
    "    print(\"no of days : 30\")"
   ]
  },
  {
   "cell_type": "code",
   "execution_count": 34,
   "metadata": {},
   "outputs": [
    {
     "name": "stdout",
     "output_type": "stream",
     "text": [
      "enter any amount : 7200\n",
      "3 notes of 2000\n",
      "2 notes of 500\n",
      "31 notes of 200\n"
     ]
    }
   ],
   "source": [
    "amt = int(input(\"enter any amount : \"))\n",
    "if amt%2000==0:\n",
    "    a = int(amt/2000)\n",
    "    print(a,\"notes of 2000\")\n",
    "else:\n",
    "    a = int(amt/2000)\n",
    "    print(a,\"notes of 2000\")\n",
    "    b = a*2000\n",
    "    c = amt-b\n",
    "    if c%500==0:\n",
    "        d = int(c/500)\n",
    "        print(d,\"notes of 500\")\n",
    "    else:\n",
    "        d = int(c/500)\n",
    "        print(d,\"notes of 500\")\n",
    "        e = d*500\n",
    "        f = amt-e\n",
    "        if f%200==0:\n",
    "            g = int(f/200)\n",
    "            print(g,\"notes of 200\")"
   ]
  },
  {
   "cell_type": "code",
   "execution_count": 2,
   "metadata": {},
   "outputs": [
    {
     "name": "stdout",
     "output_type": "stream",
     "text": [
      "enter first angle : 60\n",
      "enter second angle : 30\n",
      "enter third angle : 90\n",
      "Triangle is valid\n"
     ]
    }
   ],
   "source": [
    "angle1 = int(input(\"enter first angle : \"))\n",
    "angle2 = int(input(\"enter second angle : \"))\n",
    "angle3 = int(input(\"enter third angle : \"))\n",
    "angles = angle1+angle2+angle3\n",
    "if angles==180:\n",
    "    print(\"Triangle is valid\")\n",
    "else:\n",
    "    print(\"Its is not a valid triangle\")"
   ]
  },
  {
   "cell_type": "code",
   "execution_count": 3,
   "metadata": {},
   "outputs": [
    {
     "data": {
      "text/plain": [
       "180"
      ]
     },
     "execution_count": 3,
     "metadata": {},
     "output_type": "execute_result"
    }
   ],
   "source": [
    "angles"
   ]
  },
  {
   "cell_type": "code",
   "execution_count": 6,
   "metadata": {},
   "outputs": [
    {
     "name": "stdout",
     "output_type": "stream",
     "text": [
      "Enter first side: 3\n",
      "Enter second side: 10\n",
      "Enter third side: 3\n",
      "Its is not a valid triangle\n"
     ]
    }
   ],
   "source": [
    "side1 = int(input(\"Enter first side: \"))\n",
    "side2 = int(input(\"Enter second side: \"))\n",
    "side3 = int(input(\"Enter third side: \"))\n",
    "if side1+side2>side3 and side1+side3>side2 and side2+side3>side1:\n",
    "    print(\"Triangle is valid\")\n",
    "else:\n",
    "    print(\"Its is not a valid triangle\")"
   ]
  },
  {
   "cell_type": "code",
   "execution_count": 8,
   "metadata": {},
   "outputs": [
    {
     "name": "stdout",
     "output_type": "stream",
     "text": [
      "enter sides of a trinagles to know whether it is equilateral,Isoceles or Scalene \n",
      "\n",
      "first side: 23\n",
      "second side: 45\n",
      "third side: 67\n",
      "it is a scalene triangle\n"
     ]
    }
   ],
   "source": [
    "print(\"enter sides of a trinagles to know whether it is equilateral,Isoceles or Scalene \\n\")\n",
    "a = int(input(\"first side: \"))\n",
    "b = int(input(\"second side: \"))\n",
    "c = int(input(\"third side: \"))\n",
    "if a==b==c:\n",
    "    print(\"it is an equilateral traingle\")\n",
    "elif a==b or a==c or b==c:\n",
    "    print(\"it is an isosceles triangle\")\n",
    "else:\n",
    "    print(\"it is a scalene triangle\")"
   ]
  },
  {
   "cell_type": "code",
   "execution_count": 13,
   "metadata": {},
   "outputs": [
    {
     "name": "stdout",
     "output_type": "stream",
     "text": [
      "enter the actual cost: 23\n",
      "enter the sales amount: 23\n",
      "No profit No loss\n"
     ]
    }
   ],
   "source": [
    "cost = float(input(\"enter the actual cost: \"))\n",
    "sales = float(input(\"enter the sales amount: \"))\n",
    "if cost>sales:\n",
    "    print(\"its a loss of Rs. {}\".format(cost-sales))\n",
    "elif sales>cost:\n",
    "    print(\"its a profit of Rs. {}\".format(sales-cost))\n",
    "else:\n",
    "    print(\"No profit No loss\")"
   ]
  },
  {
   "cell_type": "code",
   "execution_count": 16,
   "metadata": {},
   "outputs": [
    {
     "name": "stdout",
     "output_type": "stream",
     "text": [
      "enter marks obtained in physics out of 100: 67\n",
      "enter marks obtained in chemistry out of 100: 67\n",
      "enter marks obtained in biology out of 100: 67\n",
      "enter marks obtained in mathematics out of 100: 67\n",
      "enter marks obtained in computer out of 100: 67\n",
      "Your percentage is 67.0%\n",
      "Your grade is D\n"
     ]
    }
   ],
   "source": [
    "phy = int(input(\"enter marks obtained in physics out of 100: \"))\n",
    "chem = int(input(\"enter marks obtained in chemistry out of 100: \"))\n",
    "bio = int(input(\"enter marks obtained in biology out of 100: \"))\n",
    "math = int(input(\"enter marks obtained in mathematics out of 100: \"))\n",
    "comp = int(input(\"enter marks obtained in computer out of 100: \"))\n",
    "total = phy+chem+bio+math+comp\n",
    "perc = total/500*100\n",
    "print(\"Your percentage is {}%\".format(perc))\n",
    "if perc>=90:\n",
    "    print(\"Your grade is A\")\n",
    "elif perc>=80:\n",
    "    print(\"Your grade is B\")\n",
    "elif perc>=70:\n",
    "    print(\"Your grade is C\")\n",
    "elif perc>=60:\n",
    "    print(\"Your grade is D\")\n",
    "elif perc>=50:\n",
    "    print(\"Your grade is E\")\n",
    "else:\n",
    "    print(\"Your grade is F\")"
   ]
  },
  {
   "cell_type": "code",
   "execution_count": 19,
   "metadata": {},
   "outputs": [
    {
     "name": "stdout",
     "output_type": "stream",
     "text": [
      "enter basic salary: 2000\n",
      "Gross Salary Rs.4000.0\n"
     ]
    }
   ],
   "source": [
    "bs = float(input(\"enter basic salary: \"))\n",
    "if bs<=10000:\n",
    "    hra=bs*0.2\n",
    "    da=bs*0.8\n",
    "elif bs<=20000:\n",
    "    hra=bs*0.25\n",
    "    da=bs*0.9\n",
    "else:\n",
    "    hra=bs*0.3\n",
    "    da=bs*0.95\n",
    "gs = bs+hra+da\n",
    "print(\"Gross Salary Rs.{}\".format(gs))"
   ]
  },
  {
   "cell_type": "code",
   "execution_count": 20,
   "metadata": {},
   "outputs": [
    {
     "name": "stdout",
     "output_type": "stream",
     "text": [
      "enter electricity unit charges: 200\n",
      "Total electricity bill is Rs. 192.0\n"
     ]
    }
   ],
   "source": [
    "unit = float(input(\"enter electricity unit charges: \"))\n",
    "if unit<=50:\n",
    "    amt=0.50*unit\n",
    "elif unit<=150:\n",
    "    amt=(0.75*(unit-50))+25\n",
    "elif unit<=250:\n",
    "    amt=(1.20*(unit-150))+100\n",
    "else:\n",
    "    amt=(1.50*(unit-250))+220\n",
    "sur = amt*0.20\n",
    "total=amt+sur\n",
    "print(\"Total electricity bill is Rs. {}\".format(total))"
   ]
  },
  {
   "cell_type": "code",
   "execution_count": 21,
   "metadata": {},
   "outputs": [
    {
     "data": {
      "text/plain": [
       "32.0"
      ]
     },
     "execution_count": 21,
     "metadata": {},
     "output_type": "execute_result"
    }
   ],
   "source": [
    "sur"
   ]
  },
  {
   "cell_type": "code",
   "execution_count": 22,
   "metadata": {},
   "outputs": [
    {
     "data": {
      "text/plain": [
       "160.0"
      ]
     },
     "execution_count": 22,
     "metadata": {},
     "output_type": "execute_result"
    }
   ],
   "source": [
    "amt"
   ]
  },
  {
   "cell_type": "code",
   "execution_count": null,
   "metadata": {},
   "outputs": [],
   "source": []
  }
 ],
 "metadata": {
  "kernelspec": {
   "display_name": "Python 3",
   "language": "python",
   "name": "python3"
  },
  "language_info": {
   "codemirror_mode": {
    "name": "ipython",
    "version": 3
   },
   "file_extension": ".py",
   "mimetype": "text/x-python",
   "name": "python",
   "nbconvert_exporter": "python",
   "pygments_lexer": "ipython3",
   "version": "3.6.5"
  }
 },
 "nbformat": 4,
 "nbformat_minor": 2
}
