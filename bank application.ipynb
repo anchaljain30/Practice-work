{
 "cells": [
  {
   "cell_type": "code",
   "execution_count": 73,
   "metadata": {},
   "outputs": [
    {
     "name": "stdout",
     "output_type": "stream",
     "text": [
      "**********Welcome to XYZ BANK**********\n",
      "\n",
      " \n",
      "\n",
      " \n",
      " Choose an option to proceed \n",
      " Enter 1 for Balance Enquiry \n",
      " Enter 2 for Deposits \n",
      " Enter 3 for Withdrawls \n",
      " 3\n",
      "**********WITHDRAWL PORTAL********** \n",
      "\n",
      "Enter your account number : 20191232\n",
      "Enter login details \n",
      "\n",
      "User ID : manish2\n",
      "Password :manish5678\n",
      "Enter the amount you want to withdraw : 2000\n",
      "Balance after withdrawl :  87000\n",
      "\n",
      " \n",
      "\n",
      "**********Thank You For Using Our Application.**********\n",
      " Hope we were able to help you online with ease and comfort.\n",
      " For any queries or feedback kindly call us on our toll free no : 01412589647\n"
     ]
    }
   ],
   "source": [
    "name = {\"20191231\":\"anchal\",\"20191232\":\"manish\",\"20191233\":\"kushal\",\"20191234\":\"rajat\",\"20191235\":\"sachin\"}\n",
    "balance = {\"20191231\":55000,\"20191232\":89000,\"20191233\":120000,\"20191234\":500000,\"20191235\":230000}\n",
    "login = {\"anchal1\":\"anchal1234\",\"manish2\":\"manish5678\",\"kushal3\":\"kushal91011\",\"rajat4\":\"rajat1213\",\"sachin5\":\"sachin1415\"}\n",
    "print(\"**********Welcome to XYZ BANK**********\")\n",
    "print(\"\\n \\n\")\n",
    "ch = input(\" \\n Choose an option to proceed \\n Enter 1 for Balance Enquiry \\n Enter 2 for Deposits \\n Enter 3 for Withdrawls \\n \").strip()\n",
    "if ch==\"1\":\n",
    "    print(\"**********BALANCE ENQUIRY PORTAL********** \\n\")\n",
    "    num = input(\"Enter your account number : \").strip()\n",
    "    print(\"Account Holder : \",name.get(num,\"This Account Number does not exist\"))\n",
    "    sleep(3)\n",
    "    print(\"Enter login details \\n\")\n",
    "    id = input(\"User ID : \").strip()\n",
    "    pswd = input(\"Password :\")\n",
    "    if login.get(id)==pswd:\n",
    "        sleep(2)\n",
    "        print(\"Balance : \",balance.get(num))\n",
    "    else:\n",
    "        sleep(2)\n",
    "        print(\"Incorrect User ID or Password\")\n",
    "elif ch==\"2\":\n",
    "    print(\"**********DEPOSIT PORTAL********** \\n\")\n",
    "    num = input(\"Enter your account number : \").strip()\n",
    "    amt = int(input(\"Enter the amount you want to deposit : \"))\n",
    "    sleep(3)\n",
    "    total = balance.get(num)+amt\n",
    "    print(\"Balance after deposit : \",total)\n",
    "elif ch==\"3\":\n",
    "    print(\"**********WITHDRAWL PORTAL********** \\n\")\n",
    "    num = input(\"Enter your account number : \").strip()\n",
    "    print(\"Enter login details \\n\")\n",
    "    id = input(\"User ID : \").strip()\n",
    "    pswd = input(\"Password :\")\n",
    "    if login.get(id)==pswd:\n",
    "        sleep(2)\n",
    "        amt = int(input(\"Enter the amount you want to withdraw : \"))\n",
    "        if balance.get(num)<=0 or amt>balance.get(num):\n",
    "            sleep(2)\n",
    "            print(\"Insufficient Funds : Cannot Withdraw\")\n",
    "        else:\n",
    "            total = balance.get(num)-amt\n",
    "            print(\"Balance after withdrawl : \",total)\n",
    "    else:\n",
    "        sleep(2)\n",
    "        print(\"Incorrect User ID or Password\")\n",
    "else:\n",
    "    print(\"Enter Correct option\")\n",
    "print(\"\\n \\n\")\n",
    "print(\"**********Thank You For Using Our Application.**********\\n Hope we were able to help you online with ease and comfort.\\n For any queries or feedback kindly call us on our toll free no : 01412589647\")"
   ]
  },
  {
   "cell_type": "code",
   "execution_count": 3,
   "metadata": {},
   "outputs": [],
   "source": [
    "dict.items?"
   ]
  },
  {
   "cell_type": "code",
   "execution_count": 11,
   "metadata": {},
   "outputs": [],
   "source": [
    "from time import sleep"
   ]
  },
  {
   "cell_type": "code",
   "execution_count": 22,
   "metadata": {},
   "outputs": [
    {
     "data": {
      "text/plain": [
       "['__class__',\n",
       " '__contains__',\n",
       " '__delattr__',\n",
       " '__delitem__',\n",
       " '__dir__',\n",
       " '__doc__',\n",
       " '__eq__',\n",
       " '__format__',\n",
       " '__ge__',\n",
       " '__getattribute__',\n",
       " '__getitem__',\n",
       " '__gt__',\n",
       " '__hash__',\n",
       " '__init__',\n",
       " '__init_subclass__',\n",
       " '__iter__',\n",
       " '__le__',\n",
       " '__len__',\n",
       " '__lt__',\n",
       " '__ne__',\n",
       " '__new__',\n",
       " '__reduce__',\n",
       " '__reduce_ex__',\n",
       " '__repr__',\n",
       " '__setattr__',\n",
       " '__setitem__',\n",
       " '__sizeof__',\n",
       " '__str__',\n",
       " '__subclasshook__',\n",
       " 'clear',\n",
       " 'copy',\n",
       " 'fromkeys',\n",
       " 'get',\n",
       " 'items',\n",
       " 'keys',\n",
       " 'pop',\n",
       " 'popitem',\n",
       " 'setdefault',\n",
       " 'update',\n",
       " 'values']"
      ]
     },
     "execution_count": 22,
     "metadata": {},
     "output_type": "execute_result"
    }
   ],
   "source": [
    "dir(dict)"
   ]
  },
  {
   "cell_type": "code",
   "execution_count": 21,
   "metadata": {},
   "outputs": [],
   "source": [
    "d = {\"key\":\"value\",\"key1\":\"value1\"}"
   ]
  },
  {
   "cell_type": "code",
   "execution_count": 32,
   "metadata": {},
   "outputs": [
    {
     "name": "stdout",
     "output_type": "stream",
     "text": [
      "enter key:key\n"
     ]
    },
    {
     "data": {
      "text/plain": [
       "'value'"
      ]
     },
     "execution_count": 32,
     "metadata": {},
     "output_type": "execute_result"
    }
   ],
   "source": [
    "i = input(\"enter key:\")\n",
    "d.get(i,\"no\")"
   ]
  },
  {
   "cell_type": "code",
   "execution_count": 28,
   "metadata": {},
   "outputs": [],
   "source": [
    "dict.get?"
   ]
  },
  {
   "cell_type": "code",
   "execution_count": 40,
   "metadata": {},
   "outputs": [],
   "source": [
    "dict.update?"
   ]
  },
  {
   "cell_type": "code",
   "execution_count": 51,
   "metadata": {},
   "outputs": [
    {
     "data": {
      "text/plain": [
       "['__add__',\n",
       " '__class__',\n",
       " '__contains__',\n",
       " '__delattr__',\n",
       " '__dir__',\n",
       " '__doc__',\n",
       " '__eq__',\n",
       " '__format__',\n",
       " '__ge__',\n",
       " '__getattribute__',\n",
       " '__getitem__',\n",
       " '__getnewargs__',\n",
       " '__gt__',\n",
       " '__hash__',\n",
       " '__init__',\n",
       " '__init_subclass__',\n",
       " '__iter__',\n",
       " '__le__',\n",
       " '__len__',\n",
       " '__lt__',\n",
       " '__mod__',\n",
       " '__mul__',\n",
       " '__ne__',\n",
       " '__new__',\n",
       " '__reduce__',\n",
       " '__reduce_ex__',\n",
       " '__repr__',\n",
       " '__rmod__',\n",
       " '__rmul__',\n",
       " '__setattr__',\n",
       " '__sizeof__',\n",
       " '__str__',\n",
       " '__subclasshook__',\n",
       " 'capitalize',\n",
       " 'casefold',\n",
       " 'center',\n",
       " 'count',\n",
       " 'encode',\n",
       " 'endswith',\n",
       " 'expandtabs',\n",
       " 'find',\n",
       " 'format',\n",
       " 'format_map',\n",
       " 'index',\n",
       " 'isalnum',\n",
       " 'isalpha',\n",
       " 'isdecimal',\n",
       " 'isdigit',\n",
       " 'isidentifier',\n",
       " 'islower',\n",
       " 'isnumeric',\n",
       " 'isprintable',\n",
       " 'isspace',\n",
       " 'istitle',\n",
       " 'isupper',\n",
       " 'join',\n",
       " 'ljust',\n",
       " 'lower',\n",
       " 'lstrip',\n",
       " 'maketrans',\n",
       " 'partition',\n",
       " 'replace',\n",
       " 'rfind',\n",
       " 'rindex',\n",
       " 'rjust',\n",
       " 'rpartition',\n",
       " 'rsplit',\n",
       " 'rstrip',\n",
       " 'split',\n",
       " 'splitlines',\n",
       " 'startswith',\n",
       " 'strip',\n",
       " 'swapcase',\n",
       " 'title',\n",
       " 'translate',\n",
       " 'upper',\n",
       " 'zfill']"
      ]
     },
     "execution_count": 51,
     "metadata": {},
     "output_type": "execute_result"
    }
   ],
   "source": [
    "dir(str)"
   ]
  },
  {
   "cell_type": "code",
   "execution_count": 63,
   "metadata": {},
   "outputs": [],
   "source": [
    "str.center?"
   ]
  },
  {
   "cell_type": "code",
   "execution_count": null,
   "metadata": {},
   "outputs": [],
   "source": []
  }
 ],
 "metadata": {
  "kernelspec": {
   "display_name": "Python 3",
   "language": "python",
   "name": "python3"
  },
  "language_info": {
   "codemirror_mode": {
    "name": "ipython",
    "version": 3
   },
   "file_extension": ".py",
   "mimetype": "text/x-python",
   "name": "python",
   "nbconvert_exporter": "python",
   "pygments_lexer": "ipython3",
   "version": "3.6.5"
  }
 },
 "nbformat": 4,
 "nbformat_minor": 2
}
