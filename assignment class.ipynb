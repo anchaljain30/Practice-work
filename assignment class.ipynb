{
 "cells": [
  {
   "cell_type": "code",
   "execution_count": 3,
   "metadata": {},
   "outputs": [],
   "source": [
    "class Circle():\n",
    "    def __init__(self,radius):\n",
    "        self.radius = radius\n",
    "    def getArea(self):\n",
    "        return 3.14*self.radius*self.radius\n",
    "    def getCircumference(self):\n",
    "        return self.radius*2*3.14"
   ]
  },
  {
   "cell_type": "markdown",
   "metadata": {},
   "source": []
  },
  {
   "cell_type": "code",
   "execution_count": 4,
   "metadata": {},
   "outputs": [],
   "source": [
    "ob1 = Circle(22)"
   ]
  },
  {
   "cell_type": "code",
   "execution_count": 5,
   "metadata": {},
   "outputs": [
    {
     "data": {
      "text/plain": [
       "1519.76"
      ]
     },
     "execution_count": 5,
     "metadata": {},
     "output_type": "execute_result"
    }
   ],
   "source": [
    "ob1.getArea()"
   ]
  },
  {
   "cell_type": "code",
   "execution_count": 6,
   "metadata": {},
   "outputs": [
    {
     "data": {
      "text/plain": [
       "138.16"
      ]
     },
     "execution_count": 6,
     "metadata": {},
     "output_type": "execute_result"
    }
   ],
   "source": [
    "ob1.getCircumference()"
   ]
  },
  {
   "cell_type": "code",
   "execution_count": 7,
   "metadata": {},
   "outputs": [],
   "source": [
    "class Temperature():\n",
    "    def convertFarenheit(self,celsius):\n",
    "        return (celsius*(9/5))+32\n",
    "    def convertCelsius(self,farenheit):\n",
    "        return (farenheit-32)*(5/9)"
   ]
  },
  {
   "cell_type": "code",
   "execution_count": 9,
   "metadata": {},
   "outputs": [],
   "source": [
    "ob2 = Temperature()"
   ]
  },
  {
   "cell_type": "code",
   "execution_count": 10,
   "metadata": {},
   "outputs": [
    {
     "data": {
      "text/plain": [
       "5.0"
      ]
     },
     "execution_count": 10,
     "metadata": {},
     "output_type": "execute_result"
    }
   ],
   "source": [
    "ob2.convertCelsius(41)"
   ]
  },
  {
   "cell_type": "code",
   "execution_count": 11,
   "metadata": {},
   "outputs": [
    {
     "data": {
      "text/plain": [
       "105.8"
      ]
     },
     "execution_count": 11,
     "metadata": {},
     "output_type": "execute_result"
    }
   ],
   "source": [
    "ob2.convertFarenheit(41)"
   ]
  },
  {
   "cell_type": "code",
   "execution_count": 21,
   "metadata": {},
   "outputs": [],
   "source": [
    "class Student():\n",
    "    def __init__(self,name,rollno):\n",
    "        self.name=name\n",
    "        self.rollno=rollno\n",
    "    def display(self):\n",
    "        print(\"name : \",self.name)\n",
    "        print(\"roll no : \",self.rollno)\n",
    "    def setAge(self,age):\n",
    "        self.age=age\n",
    "    def setMarks(self,marks):\n",
    "        self.marks=marks\n",
    "    def final(self):\n",
    "        print(\"name : \",self.name)\n",
    "        print(\"roll no : \",self.rollno)\n",
    "        print(\"age:\",self.age)\n",
    "        print(\"marks:\",self.marks)"
   ]
  },
  {
   "cell_type": "code",
   "execution_count": 22,
   "metadata": {},
   "outputs": [],
   "source": [
    "ob3 = Student(\"anchal\",\"3\")"
   ]
  },
  {
   "cell_type": "code",
   "execution_count": 23,
   "metadata": {},
   "outputs": [
    {
     "name": "stdout",
     "output_type": "stream",
     "text": [
      "name :  anchal\n",
      "roll no :  3\n"
     ]
    }
   ],
   "source": [
    "ob3.display()"
   ]
  },
  {
   "cell_type": "code",
   "execution_count": 24,
   "metadata": {},
   "outputs": [],
   "source": [
    "ob3.setAge(22)"
   ]
  },
  {
   "cell_type": "code",
   "execution_count": 25,
   "metadata": {},
   "outputs": [],
   "source": [
    "ob3.setMarks(99)"
   ]
  },
  {
   "cell_type": "code",
   "execution_count": 26,
   "metadata": {},
   "outputs": [
    {
     "name": "stdout",
     "output_type": "stream",
     "text": [
      "name :  anchal\n",
      "roll no :  3\n",
      "age: 22\n",
      "marks: 99\n"
     ]
    }
   ],
   "source": [
    "ob3.final()"
   ]
  },
  {
   "cell_type": "code",
   "execution_count": 27,
   "metadata": {},
   "outputs": [],
   "source": [
    "class Person():\n",
    "    def __init__(self,area,name,phone,email):\n",
    "        self.area=area\n",
    "        self.name=name\n",
    "        self.phone=phone\n",
    "        self.email=email\n",
    "    def __str__(self):\n",
    "        res = f\"\"\" {self.area}, {self.name} -- Phone Number: {self.phone} -- Email Address(es): {self.email} \"\"\"\n",
    "        return res"
   ]
  },
  {
   "cell_type": "code",
   "execution_count": 29,
   "metadata": {},
   "outputs": [],
   "source": [
    "emily = Person(\"zhang\",\"emily\",\"6483927437687\",\"emzhang@mit.edu\")"
   ]
  },
  {
   "cell_type": "code",
   "execution_count": 30,
   "metadata": {},
   "outputs": [
    {
     "name": "stdout",
     "output_type": "stream",
     "text": [
      " zhang, emily -- Phone Number: 6483927437687 -- Email Address(es): emzhang@mit.edu \n"
     ]
    }
   ],
   "source": [
    "print(emily)"
   ]
  },
  {
   "cell_type": "code",
   "execution_count": 33,
   "metadata": {},
   "outputs": [],
   "source": [
    "wesley = Person(\"Graybill\",\"wesley\",\"2154689\",['ahtgf@ajkdhf.com','hgfd@hsad.edu'])"
   ]
  },
  {
   "cell_type": "code",
   "execution_count": 34,
   "metadata": {},
   "outputs": [
    {
     "name": "stdout",
     "output_type": "stream",
     "text": [
      " Graybill, wesley -- Phone Number: 2154689 -- Email Address(es): ['ahtgf@ajkdhf.com', 'hgfd@hsad.edu'] \n"
     ]
    }
   ],
   "source": [
    "print(wesley)"
   ]
  },
  {
   "cell_type": "code",
   "execution_count": null,
   "metadata": {},
   "outputs": [],
   "source": [
    "class AddressBook():\n",
    "    def __init__()"
   ]
  }
 ],
 "metadata": {
  "kernelspec": {
   "display_name": "Python 3",
   "language": "python",
   "name": "python3"
  },
  "language_info": {
   "codemirror_mode": {
    "name": "ipython",
    "version": 3
   },
   "file_extension": ".py",
   "mimetype": "text/x-python",
   "name": "python",
   "nbconvert_exporter": "python",
   "pygments_lexer": "ipython3",
   "version": "3.6.5"
  }
 },
 "nbformat": 4,
 "nbformat_minor": 2
}
