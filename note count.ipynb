{
 "cells": [
  {
   "cell_type": "code",
   "execution_count": 10,
   "metadata": {},
   "outputs": [
    {
     "name": "stdout",
     "output_type": "stream",
     "text": [
      "enter bill amount: 5500\n",
      "enter cash given : 6000\n",
      "How many 2000 notes: 2\n",
      "2\n",
      "How many 500 notes: 2\n",
      "2\n",
      "How many 200 notes: 0\n",
      "0\n",
      "How many 100 notes: 5\n",
      "5\n",
      "How many 50 notes: 0\n",
      "0\n",
      "How many 20 notes: 0\n",
      "0\n",
      "How many 10 notes: 0\n",
      "0\n",
      "How many 5 notes: 0\n",
      "0\n",
      "How many 2 notes: 0\n",
      "0\n",
      "How many 1 notes: 0\n",
      "0\n",
      "Change given: Rs. 500\n"
     ]
    }
   ],
   "source": [
    "from time import sleep\n",
    "pay = int(input(\"enter bill amount: \"))\n",
    "cash = int(input(\"enter cash given : \"))\n",
    "data = { 2000:10,500:50,200:30,100:10,50:80,20:70,10:80,5:40,2:50,1:50}\n",
    "notes = [ 2000,500,200,100,50,20,10,5,2,1]\n",
    "ch = cash\n",
    "for var in notes :\n",
    "    data[var] = data[var] + ch // var\n",
    "    ch = ch % var\n",
    "    if data[var] : \n",
    "        print(int(input(f\"How many {var} notes: \")))\n",
    "sleep(2)\n",
    "change = cash-pay\n",
    "print(f\"\\n \\n \\n Change given: Rs. {change}\")"
   ]
  },
  {
   "cell_type": "code",
   "execution_count": 17,
   "metadata": {},
   "outputs": [
    {
     "name": "stdout",
     "output_type": "stream",
     "text": [
      "enter bill amount: 5634\n",
      "enter cash given : 6000\n",
      "How many 2000 notes: 2\n",
      "2\n",
      "How many 500 notes: 2\n",
      "2\n",
      "How many 200 notes: 0\n",
      "0\n",
      "How many 100 notes: 5\n",
      "5\n",
      "How many 50 notes: 0\n",
      "0\n",
      "How many 20 notes: 0\n",
      "0\n",
      "How many 10 notes: 0\n",
      "0\n",
      "How many 5 notes: 0\n",
      "0\n",
      "How many 2 notes: 0\n",
      "0\n",
      "How many 1 notes: 0\n",
      "0\n",
      "\n",
      " \n",
      " \n",
      " Change given: Rs. 366\n",
      "\n",
      " \n",
      " BILLING MADE EASY\n"
     ]
    }
   ],
   "source": [
    "from time import sleep\n",
    "pay = int(input(\"enter bill amount: \"))\n",
    "cash = int(input(\"enter cash given : \"))\n",
    "data = { 2000:10,500:50,200:30,100:10,50:80,20:70,10:80,5:40,2:50,1:50}\n",
    "notes = [ 2000,500,200,100,50,20,10,5,2,1]\n",
    "ch = cash\n",
    "for var in notes :\n",
    "    data[var] = data[var] + ch // var\n",
    "    ch = ch % var\n",
    "    if data[var] :\n",
    "        print(int(input(f\"How many {var} notes: \")))\n",
    "            \n",
    "sleep(2)\n",
    "change = cash-pay\n",
    "print(f\"\\n \\n \\n Change given: Rs. {change}\")\n",
    "for var in notes :\n",
    "    data[var] = data[var] - change // var\n",
    "    change = change % var\n",
    "print(\"\\n \\n BILLING MADE EASY\")"
   ]
  },
  {
   "cell_type": "code",
   "execution_count": 18,
   "metadata": {},
   "outputs": [
    {
     "data": {
      "text/plain": [
       "{2000: 13,\n",
       " 500: 50,\n",
       " 200: 29,\n",
       " 100: 9,\n",
       " 50: 79,\n",
       " 20: 70,\n",
       " 10: 79,\n",
       " 5: 39,\n",
       " 2: 50,\n",
       " 1: 49}"
      ]
     },
     "execution_count": 18,
     "metadata": {},
     "output_type": "execute_result"
    }
   ],
   "source": [
    "data"
   ]
  },
  {
   "cell_type": "code",
   "execution_count": null,
   "metadata": {},
   "outputs": [],
   "source": []
  }
 ],
 "metadata": {
  "kernelspec": {
   "display_name": "Python 3",
   "language": "python",
   "name": "python3"
  },
  "language_info": {
   "codemirror_mode": {
    "name": "ipython",
    "version": 3
   },
   "file_extension": ".py",
   "mimetype": "text/x-python",
   "name": "python",
   "nbconvert_exporter": "python",
   "pygments_lexer": "ipython3",
   "version": "3.6.5"
  }
 },
 "nbformat": 4,
 "nbformat_minor": 2
}
