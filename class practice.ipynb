{
 "cells": [
  {
   "cell_type": "code",
   "execution_count": 1,
   "metadata": {},
   "outputs": [],
   "source": [
    "class Person : \n",
    "    def __init__(self,x,y):\n",
    "        self.name = x\n",
    "        self.age = y\n",
    "    def __str__(self):  #overloading of default __str__ \n",
    "        s = f\"\"\"Name : {self.name}\n",
    "Age : {self.age}\n",
    "\"\"\"\n",
    "        return s\n",
    "    def drink(self):\n",
    "        if self.age > 18 : \n",
    "            print(f\"{self.name} can Drink.\")\n",
    "        else : \n",
    "            print(f\"{self.name} can not Drink\")"
   ]
  },
  {
   "cell_type": "code",
   "execution_count": 2,
   "metadata": {},
   "outputs": [],
   "source": [
    "p1 = Person('sachin',23) #Person.__new__(x,y)--> self__> init(self,x,y)\n",
    "p2 = Person('rajat',35)"
   ]
  },
  {
   "cell_type": "code",
   "execution_count": 3,
   "metadata": {},
   "outputs": [
    {
     "name": "stdout",
     "output_type": "stream",
     "text": [
      "Name : rajat\n",
      "Age : 35\n",
      "\n"
     ]
    }
   ],
   "source": [
    "print(p2)"
   ]
  },
  {
   "cell_type": "code",
   "execution_count": 4,
   "metadata": {},
   "outputs": [
    {
     "name": "stdout",
     "output_type": "stream",
     "text": [
      "rajat can Drink.\n"
     ]
    }
   ],
   "source": [
    "p2.drink()"
   ]
  },
  {
   "cell_type": "code",
   "execution_count": null,
   "metadata": {},
   "outputs": [],
   "source": []
  },
  {
   "cell_type": "code",
   "execution_count": null,
   "metadata": {},
   "outputs": [],
   "source": []
  }
 ],
 "metadata": {
  "kernelspec": {
   "display_name": "Python 3",
   "language": "python",
   "name": "python3"
  },
  "language_info": {
   "codemirror_mode": {
    "name": "ipython",
    "version": 3
   },
   "file_extension": ".py",
   "mimetype": "text/x-python",
   "name": "python",
   "nbconvert_exporter": "python",
   "pygments_lexer": "ipython3",
   "version": "3.6.5"
  }
 },
 "nbformat": 4,
 "nbformat_minor": 2
}
