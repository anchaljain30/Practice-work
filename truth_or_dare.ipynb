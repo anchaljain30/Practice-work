{
 "cells": [
  {
   "cell_type": "code",
   "execution_count": null,
   "metadata": {},
   "outputs": [
    {
     "name": "stdout",
     "output_type": "stream",
     "text": [
      "Enter name of participants separated by ',' dsf,rre\n",
      "Let's see who gets the turn\n",
      "player rre gets the turn\n",
      "what do you choose - truth or dare ? Type T for truth and D for dare : d\n",
      "you chose dare\n",
      "your question is :  After the group chooses one rude word, sing a song and insert that rude word once into every line of the song.  LET'S DO THIS\n"
     ]
    }
   ],
   "source": [
    "from random import choice\n",
    "from time import sleep\n",
    "truth = [\"what is your guilty pleasure?\",\"who do you think is the worst dressed person in the room?\",\"What would you do if you were the opposite sex for a month?\",\n",
    "\"What is the most expensive thing you have stolen?\",\"Have you ever cheated or been cheated on?\",\"What was the worst encounter you had with a police officer?\",\"Tell me about your most awkward date.\",\"What is the most embarrassing nickname you have ever had?\",\"What is the most embarrassing photo you have on your phone?\",\"What do you really hope your parents never find out about?\",\"Tell me something you don’t want me to know.\",\"Who is your crush?\",\"What is the most embarrassing thing your parents have caught you doing?\"]\n",
    "dare = [\"Dance with no music for 1 minute.\",\"Let the group pose you in an embarrassing position and take a picture.\",\"Play a song on by slapping your butt cheeks till someone guesses the song.\",\"Give someone your phone and let them send one text to anyone in your contacts.\",\"Let the group give you a new hairstyle.\",\"Let the person to your left draw on your face with a pen.\",\"Do push ups until you can’t do any more, wait 5 seconds, and then do one more\",\"Let the group look through your phone for 2 minutes.\",\"Dance to a song of the group’s choosing.\",\"Poll dance for 1 minute with an imaginary pole.\",\"Post an extremely unflattering picture of yourself to the social media outlet of your choosing.\",\"After the group chooses one rude word, sing a song and insert that rude word once into every line of the song.\",\"Belly dance like your life depended on it.\",\"Act like whatever animal someone yells out for the next 1 minute.\"]\n",
    "names = input(\"Enter name of participants separated by ',' \").split(\",\")\n",
    "namech = choice(names)\n",
    "print(\"Let's see who gets the turn\")\n",
    "sleep(2)\n",
    "print(\"player\",namech,\"gets the turn\")\n",
    "td = input(\"what do you choose - truth or dare ? Type T for truth and D for dare : \").lower().strip()\n",
    "if td==\"t\":\n",
    "           print(\"you chose truth\")\n",
    "           truthch = choice(truth)\n",
    "           print(\"your question is : \",truthch,\" BE HONEST\")\n",
    "           sleep(1)\n",
    "           res = input(\"Done or Skip this question ? \").lower().strip()\n",
    "           if res == \"done\":\n",
    "                print(\"Well this was fun, let's play again. HIT RUN\")\n",
    "           elif res == \"skip\":\n",
    "                truthch = choice(truth)\n",
    "                print(\"your question is : \",truthch,\" BE HONEST\")\n",
    "           else:\n",
    "                print(\"wrong entry. RESTART\")\n",
    "elif td==\"d\":\n",
    "           print(\"you chose dare\")\n",
    "           darech = choice(dare)\n",
    "           print(\"your question is : \",darech,\" LET'S DO THIS\")\n",
    "           sleep(1)\n",
    "           re = input(\"Done or Skip this question ? \").lower().strip()\n",
    "           if re == \"done\":\n",
    "                print(\"Well this was fun, let's play again. HIT RUN\")\n",
    "           elif re == \"skip\":\n",
    "                truthch = choice(dare)\n",
    "                print(\"your question is : \",darech,\" LET'S DO THIS\")\n",
    "           else:\n",
    "                print(\"wrong entry. RESTART\")\n",
    "else:\n",
    "    print(\"enter the correct option\")"
   ]
  },
  {
   "cell_type": "code",
   "execution_count": 2,
   "metadata": {},
   "outputs": [],
   "source": [
    "while len(names)<=4:\n",
    "    if len(names)>4:\n",
    "        print(\"Maximum 4 participants allowed\")\n",
    "        names = input(\"Enter name of participants separated by ',' \").split(\",\")\n",
    "        break\n",
    "    else:\n",
    "        print(\"WELCOME TO THE GAME\",names)"
   ]
  },
  {
   "cell_type": "code",
   "execution_count": null,
   "metadata": {},
   "outputs": [],
   "source": []
  },
  {
   "cell_type": "code",
   "execution_count": null,
   "metadata": {},
   "outputs": [],
   "source": [
    "list.pop?"
   ]
  },
  {
   "cell_type": "code",
   "execution_count": null,
   "metadata": {},
   "outputs": [],
   "source": [
    "list.count?"
   ]
  },
  {
   "cell_type": "code",
   "execution_count": null,
   "metadata": {},
   "outputs": [],
   "source": []
  }
 ],
 "metadata": {
  "kernelspec": {
   "display_name": "Python 3",
   "language": "python",
   "name": "python3"
  },
  "language_info": {
   "codemirror_mode": {
    "name": "ipython",
    "version": 3
   },
   "file_extension": ".py",
   "mimetype": "text/x-python",
   "name": "python",
   "nbconvert_exporter": "python",
   "pygments_lexer": "ipython3",
   "version": "3.6.5"
  }
 },
 "nbformat": 4,
 "nbformat_minor": 2
}
