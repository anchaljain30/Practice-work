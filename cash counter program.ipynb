{
 "cells": [
  {
   "cell_type": "code",
   "execution_count": 1,
   "metadata": {},
   "outputs": [],
   "source": [
    "data = { 2000:10,500:50,200:30,100:10,50:80,20:70,10:80,5:40,2:50,1:50}"
   ]
  },
  {
   "cell_type": "code",
   "execution_count": 4,
   "metadata": {},
   "outputs": [
    {
     "name": "stdout",
     "output_type": "stream",
     "text": [
      "enter bill amount: 2034\n",
      "enter cash given : 2500\n",
      "How many 2000 notes: 2\n",
      "2\n",
      "How many 500 notes: 1\n",
      "1\n",
      "How many 200 notes: 0\n",
      "0\n",
      "How many 100 notes: 0\n",
      "0\n",
      "How many 50 notes: 0\n",
      "0\n",
      "How many 20 notes: 0\n",
      "0\n",
      "How many 10 notes: 0\n",
      "0\n",
      "How many 5 notes: 0\n",
      "0\n",
      "How many 2 notes: 0\n",
      "0\n",
      "How many 1 notes: 0\n",
      "0\n",
      "\n",
      " \n",
      " \n",
      " Change given: Rs. 466\n",
      "\n",
      " \n",
      " BILLING MADE EASY\n"
     ]
    }
   ],
   "source": [
    "from time import sleep\n",
    "pay = int(input(\"enter bill amount: \"))\n",
    "cash = int(input(\"enter cash given : \"))\n",
    "notes = [ 2000,500,200,100,50,20,10,5,2,1]\n",
    "ch = cash\n",
    "for var in notes :\n",
    "    data[var] = data[var] + ch // var\n",
    "    ch = ch % var\n",
    "    if data[var] :\n",
    "        print(int(input(f\"How many {var} notes: \")))\n",
    "            \n",
    "sleep(2)\n",
    "change = cash-pay\n",
    "print(f\"\\n \\n \\n Change given: Rs. {change}\")\n",
    "for var in notes :\n",
    "    data[var] = data[var] - change // var\n",
    "    change = change % var\n",
    "print(\"\\n \\n BILLING MADE EASY\")"
   ]
  },
  {
   "cell_type": "code",
   "execution_count": 3,
   "metadata": {},
   "outputs": [
    {
     "data": {
      "text/plain": [
       "{2000: 13,\n",
       " 500: 49,\n",
       " 200: 30,\n",
       " 100: 10,\n",
       " 50: 80,\n",
       " 20: 69,\n",
       " 10: 79,\n",
       " 5: 40,\n",
       " 2: 49,\n",
       " 1: 49}"
      ]
     },
     "execution_count": 3,
     "metadata": {},
     "output_type": "execute_result"
    }
   ],
   "source": [
    "data"
   ]
  },
  {
   "cell_type": "code",
   "execution_count": 5,
   "metadata": {},
   "outputs": [
    {
     "data": {
      "text/plain": [
       "{2000: 14,\n",
       " 500: 50,\n",
       " 200: 28,\n",
       " 100: 10,\n",
       " 50: 79,\n",
       " 20: 69,\n",
       " 10: 78,\n",
       " 5: 39,\n",
       " 2: 49,\n",
       " 1: 48}"
      ]
     },
     "execution_count": 5,
     "metadata": {},
     "output_type": "execute_result"
    }
   ],
   "source": [
    "data"
   ]
  },
  {
   "cell_type": "code",
   "execution_count": null,
   "metadata": {},
   "outputs": [],
   "source": []
  }
 ],
 "metadata": {
  "kernelspec": {
   "display_name": "Python 3",
   "language": "python",
   "name": "python3"
  },
  "language_info": {
   "codemirror_mode": {
    "name": "ipython",
    "version": 3
   },
   "file_extension": ".py",
   "mimetype": "text/x-python",
   "name": "python",
   "nbconvert_exporter": "python",
   "pygments_lexer": "ipython3",
   "version": "3.6.5"
  }
 },
 "nbformat": 4,
 "nbformat_minor": 2
}
